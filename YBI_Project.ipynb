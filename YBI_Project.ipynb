{
  "nbformat": 4,
  "nbformat_minor": 0,
  "metadata": {
    "colab": {
      "name": "YBI_Project.ipynb",
      "provenance": [],
      "include_colab_link": true
    },
    "kernelspec": {
      "name": "python3",
      "display_name": "Python 3"
    },
    "language_info": {
      "name": "python"
    }
  },
  "cells": [
    {
      "cell_type": "markdown",
      "metadata": {
        "id": "view-in-github",
        "colab_type": "text"
      },
      "source": [
        "<a href=\"https://colab.research.google.com/github/cintamg/Machine_Learning/blob/main/YBI_Project.ipynb\" target=\"_parent\"><img src=\"https://colab.research.google.com/assets/colab-badge.svg\" alt=\"Open In Colab\"/></a>"
      ]
    },
    {
      "cell_type": "markdown",
      "source": [
        "# **IMAGE CLASSIFICATION**"
      ],
      "metadata": {
        "id": "j6wdceVl_ONo"
      }
    },
    {
      "cell_type": "markdown",
      "source": [
        "Data Source : KAGGLE(https://www.kaggle.com/alxmamaev/flowers-recognition)"
      ],
      "metadata": {
        "id": "EdFw61LC_eeX"
      }
    },
    {
      "cell_type": "code",
      "source": [
        "from google.colab import drive\n",
        "drive.mount('/content/MyDrive')"
      ],
      "metadata": {
        "id": "PfjNrfsYOqtY",
        "colab": {
          "base_uri": "https://localhost:8080/"
        },
        "outputId": "62ae6ceb-b47f-4f33-d0e3-661f6da16d37"
      },
      "execution_count": null,
      "outputs": [
        {
          "output_type": "stream",
          "name": "stdout",
          "text": [
            "Drive already mounted at /content/MyDrive; to attempt to forcibly remount, call drive.mount(\"/content/MyDrive\", force_remount=True).\n"
          ]
        }
      ]
    },
    {
      "cell_type": "code",
      "source": [
        "import os\n",
        "os.environ['KAGGLE_CONFIG_DIR']='/content/MyDrive/MyDrive/kaggle_dataset'"
      ],
      "metadata": {
        "id": "41gZ8aeGdQ6l"
      },
      "execution_count": null,
      "outputs": []
    },
    {
      "cell_type": "code",
      "source": [
        "%cd /content/MyDrive/MyDrive/kaggle_dataset"
      ],
      "metadata": {
        "id": "CpAm-QzPdy7o",
        "colab": {
          "base_uri": "https://localhost:8080/"
        },
        "outputId": "ff241c56-7e8a-4b46-c4f4-20afdcdbdba7"
      },
      "execution_count": null,
      "outputs": [
        {
          "output_type": "stream",
          "name": "stdout",
          "text": [
            "/content/MyDrive/MyDrive/kaggle_dataset\n"
          ]
        }
      ]
    },
    {
      "cell_type": "code",
      "source": [
        "!kaggle datasets download -d alxmamaev/flowers-recognition"
      ],
      "metadata": {
        "id": "E5QKX2sCewwj",
        "colab": {
          "base_uri": "https://localhost:8080/"
        },
        "outputId": "27c7289b-64c4-4dbc-a912-7146dec13fcd"
      },
      "execution_count": null,
      "outputs": [
        {
          "output_type": "stream",
          "name": "stdout",
          "text": [
            "Downloading flowers-recognition.zip to /content/MyDrive/MyDrive/kaggle_dataset\n",
            " 98% 221M/225M [00:03<00:00, 80.8MB/s]\n",
            "100% 225M/225M [00:03<00:00, 74.5MB/s]\n"
          ]
        }
      ]
    },
    {
      "cell_type": "code",
      "source": [
        "!mkdir flowers-recognition\n",
        "!mv flowers-recognition.zip flowers-recognition"
      ],
      "metadata": {
        "id": "nVRHptuofKzD",
        "colab": {
          "base_uri": "https://localhost:8080/"
        },
        "outputId": "d0fcdc5f-45ed-40f9-e80c-c97ff96561d2"
      },
      "execution_count": null,
      "outputs": [
        {
          "output_type": "stream",
          "name": "stdout",
          "text": [
            "mkdir: cannot create directory ‘flowers-recognition’: File exists\n"
          ]
        }
      ]
    },
    {
      "cell_type": "code",
      "source": [
        "%cd flowers-recognition/"
      ],
      "metadata": {
        "id": "u6kVcckufzbe",
        "colab": {
          "base_uri": "https://localhost:8080/"
        },
        "outputId": "c4678c6c-227a-4b88-c4ae-457fb67c513c"
      },
      "execution_count": null,
      "outputs": [
        {
          "output_type": "stream",
          "name": "stdout",
          "text": [
            "/content/MyDrive/MyDrive/kaggle_dataset/flowers-recognition\n"
          ]
        }
      ]
    },
    {
      "cell_type": "code",
      "source": [
        "!unzip flowers-recognition.zip"
      ],
      "metadata": {
        "id": "ZX8Gjk5Cf51S",
        "colab": {
          "base_uri": "https://localhost:8080/"
        },
        "outputId": "32608f4d-ebd8-4e18-be45-2652a7494741"
      },
      "execution_count": null,
      "outputs": [
        {
          "output_type": "stream",
          "name": "stdout",
          "text": [
            "Archive:  flowers-recognition.zip\n",
            "replace flowers/daisy/100080576_f52e8ee070_n.jpg? [y]es, [n]o, [A]ll, [N]one, [r]ename: "
          ]
        }
      ]
    },
    {
      "cell_type": "code",
      "source": [
        "import os\n",
        "import matplotlib.pyplot as plt\n",
        "import numpy as np\n",
        "from skimage.io import imread\n",
        "from skimage.transform import resize"
      ],
      "metadata": {
        "id": "9DkZzJPxgIRl"
      },
      "execution_count": null,
      "outputs": []
    },
    {
      "cell_type": "code",
      "source": [
        "target=[]\n",
        "images=[]\n",
        "flatten_data=[]"
      ],
      "metadata": {
        "id": "RuMhrxZ5gqvA"
      },
      "execution_count": null,
      "outputs": []
    },
    {
      "cell_type": "code",
      "source": [
        "DATADIR ='/content/MyDrive/MyDrive/kaggle_dataset/flowers-recognition/flowers'\n",
        "CATEGORIES=['daisy','dandelion','rose','sunflower','tulip']"
      ],
      "metadata": {
        "id": "EqwXV3Ougtpl"
      },
      "execution_count": null,
      "outputs": []
    },
    {
      "cell_type": "code",
      "source": [
        "for cat in CATEGORIES:\n",
        "  class_num = CATEGORIES.index(cat) # Labell encoding\n",
        "  path=os.path.join(DATADIR,cat) # Create path to use images\n",
        "  for img in os.listdir(path):\n",
        "    img_arr=imread(os.path.join(path,img))\n",
        "    img_resized=resize(img_arr,(150,150,3)) #Normalizes the value to [0,1]\n",
        "    flatten_data.append(img_resized.flatten())\n",
        "    images.append(img_resized)\n",
        "    target.append(class_num)\n",
        "\n",
        "flat_data=np.array(flatten_data)\n",
        "target=np.array(target)\n",
        "images=np.array(images)"
      ],
      "metadata": {
        "id": "0Ke2pb-zhhRY"
      },
      "execution_count": null,
      "outputs": []
    },
    {
      "cell_type": "code",
      "source": [
        "flat_data.shape"
      ],
      "metadata": {
        "id": "gHyMzDMMhl1U",
        "colab": {
          "base_uri": "https://localhost:8080/"
        },
        "outputId": "86335053-f78b-4f72-94c6-cc589bf6e02f"
      },
      "execution_count": null,
      "outputs": [
        {
          "output_type": "execute_result",
          "data": {
            "text/plain": [
              "(4317, 67500)"
            ]
          },
          "metadata": {},
          "execution_count": 59
        }
      ]
    },
    {
      "cell_type": "code",
      "source": [
        "unique,count=np.unique(target,return_counts=True)\n",
        "plt.bar(CATEGORIES,count)"
      ],
      "metadata": {
        "id": "6DkNwutEhww1",
        "colab": {
          "base_uri": "https://localhost:8080/",
          "height": 282
        },
        "outputId": "c9ee0cd5-dec6-4192-eacb-f6f635ac0972"
      },
      "execution_count": null,
      "outputs": [
        {
          "output_type": "execute_result",
          "data": {
            "text/plain": [
              "<BarContainer object of 5 artists>"
            ]
          },
          "metadata": {},
          "execution_count": 60
        },
        {
          "output_type": "display_data",
          "data": {
            "image/png": "[encoded data removed]",
            "text/plain": [
              "<Figure size 432x288 with 1 Axes>"
            ]
          },
          "metadata": {
            "needs_background": "light"
          }
        }
      ]
    },
    {
      "cell_type": "code",
      "source": [
        "# Split data into training and testing\n",
        "from sklearn.model_selection import train_test_split\n",
        "x_train,x_test,y_train,y_test=train_test_split(flat_data,target,test_size=0.3,random_state=84)\n",
        "print(x_train.shape)\n",
        "print(x_test.shape)"
      ],
      "metadata": {
        "id": "p97Rffc3h1-m",
        "colab": {
          "base_uri": "https://localhost:8080/"
        },
        "outputId": "bdd3e060-103c-4e63-ca32-2e80e7bcea3e"
      },
      "execution_count": null,
      "outputs": [
        {
          "output_type": "stream",
          "name": "stdout",
          "text": [
            "(3021, 67500)\n",
            "(1296, 67500)\n"
          ]
        }
      ]
    },
    {
      "cell_type": "code",
      "source": [
        "from sklearn.linear_model import LogisticRegression\n",
        "model=LogisticRegression(max_iter=300)\n",
        "model.fit(x_train,y_train)\n",
        "y_pred=model.predict(x_test)\n",
        "y_pred"
      ],
      "metadata": {
        "id": "CG2PQCskh700",
        "colab": {
          "base_uri": "https://localhost:8080/"
        },
        "outputId": "33c65221-9cc9-4bd5-edf8-29548ac3b174"
      },
      "execution_count": null,
      "outputs": [
        {
          "output_type": "stream",
          "name": "stderr",
          "text": [
            "/usr/local/lib/python3.7/dist-packages/sklearn/linear_model/_logistic.py:818: ConvergenceWarning: lbfgs failed to converge (status=1):\n",
            "STOP: TOTAL NO. of ITERATIONS REACHED LIMIT.\n",
            "\n",
            "Increase the number of iterations (max_iter) or scale the data as shown in:\n",
            "    https://scikit-learn.org/stable/modules/preprocessing.html\n",
            "Please also refer to the documentation for alternative solver options:\n",
            "    https://scikit-learn.org/stable/modules/linear_model.html#logistic-regression\n",
            "  extra_warning_msg=_LOGISTIC_SOLVER_CONVERGENCE_MSG,\n"
          ]
        },
        {
          "output_type": "execute_result",
          "data": {
            "text/plain": [
              "array([3, 3, 1, ..., 2, 4, 1])"
            ]
          },
          "metadata": {},
          "execution_count": 63
        }
      ]
    },
    {
      "cell_type": "code",
      "source": [
        "y_test"
      ],
      "metadata": {
        "id": "vEncrH56h_Dy",
        "colab": {
          "base_uri": "https://localhost:8080/"
        },
        "outputId": "65786505-4a92-4096-e871-055d3c9cad46"
      },
      "execution_count": null,
      "outputs": [
        {
          "output_type": "execute_result",
          "data": {
            "text/plain": [
              "array([3, 3, 1, ..., 2, 4, 2])"
            ]
          },
          "metadata": {},
          "execution_count": 66
        }
      ]
    },
    {
      "cell_type": "code",
      "source": [
        "# Confusion Matrix\n",
        "from sklearn.metrics import confusion_matrix\n",
        "confusion_matrix(y_pred, y_test)"
      ],
      "metadata": {
        "id": "RAAp1du3iCMl",
        "colab": {
          "base_uri": "https://localhost:8080/"
        },
        "outputId": "adf8a890-f03b-4490-cd64-2dbcd436e762"
      },
      "execution_count": null,
      "outputs": [
        {
          "output_type": "execute_result",
          "data": {
            "text/plain": [
              "array([[ 61,  43,  22,  28,  34],\n",
              "       [ 99, 182,  43,  65,  60],\n",
              "       [ 27,  23,  92,  23,  64],\n",
              "       [ 16,  39,  13,  88,  29],\n",
              "       [ 21,  28,  64,  24, 108]])"
            ]
          },
          "metadata": {},
          "execution_count": 67
        }
      ]
    },
    {
      "cell_type": "code",
      "source": [
        "# Accuracy\n",
        "from sklearn.metrics import accuracy_score\n",
        "accuracy_score(y_pred, y_test)"
      ],
      "metadata": {
        "id": "QBDw1RF0iEzo",
        "colab": {
          "base_uri": "https://localhost:8080/"
        },
        "outputId": "8172c0e6-793e-4c8e-a52f-2d432d7cd51c"
      },
      "execution_count": null,
      "outputs": [
        {
          "output_type": "execute_result",
          "data": {
            "text/plain": [
              "0.4097222222222222"
            ]
          },
          "metadata": {},
          "execution_count": 68
        }
      ]
    },
    {
      "cell_type": "code",
      "source": [
        "from sklearn.metrics import classification_report\n",
        "print(classification_report(y_pred,y_test))"
      ],
      "metadata": {
        "id": "3OaJvJl9iIE4",
        "colab": {
          "base_uri": "https://localhost:8080/"
        },
        "outputId": "09d54858-a23c-4ffe-8d7c-9e6471db5187"
      },
      "execution_count": null,
      "outputs": [
        {
          "output_type": "stream",
          "name": "stdout",
          "text": [
            "              precision    recall  f1-score   support\n",
            "\n",
            "           0       0.27      0.32      0.30       188\n",
            "           1       0.58      0.41      0.48       449\n",
            "           2       0.39      0.40      0.40       229\n",
            "           3       0.39      0.48      0.43       185\n",
            "           4       0.37      0.44      0.40       245\n",
            "\n",
            "    accuracy                           0.41      1296\n",
            "   macro avg       0.40      0.41      0.40      1296\n",
            "weighted avg       0.43      0.41      0.41      1296\n",
            "\n"
          ]
        }
      ]
    },
    {
      "cell_type": "code",
      "source": [
        "import pickle\n",
        "pickle.dump(model,open('flowers.p','wb'))"
      ],
      "metadata": {
        "id": "9GEyCZImiKRU"
      },
      "execution_count": null,
      "outputs": []
    },
    {
      "cell_type": "code",
      "source": [
        "model=pickle.load(open('flowers.p','rb'))"
      ],
      "metadata": {
        "id": "JPpA_IB7iQv6"
      },
      "execution_count": null,
      "outputs": []
    },
    {
      "cell_type": "code",
      "source": [
        "#Testing a brand new image\n",
        "flat_data=[]\n",
        "url=input('Enter your URL :')\n",
        "img=imread(url)\n",
        "img_resized=resize(img,(150,150,3))\n",
        "flat_data.append(img_resized.flatten())\n",
        "flat_data=np.array(flat_data)\n",
        "print(img.shape)\n",
        "plt.imshow(img_resized)\n",
        "y_out=model.predict(flat_data)\n",
        "y_out=CATEGORIES[y_out[0]]\n",
        "print(f\"Predicted output : {y_out}\")"
      ],
      "metadata": {
        "id": "rmb2XZHLibHU",
        "colab": {
          "base_uri": "https://localhost:8080/",
          "height": 321
        },
        "outputId": "74b75692-e5ed-4a57-bde9-59f883fcd323"
      },
      "execution_count": null,
      "outputs": [
        {
          "output_type": "stream",
          "name": "stdout",
          "text": [
            "Enter your URL :https://st.depositphotos.com/1036794/3807/i/600/depositphotos_38077819-stock-photo-sunflower.jpg\n",
            "(600, 600, 3)\n",
            "Predicted output : sunflower\n"
          ]
        },
        {
          "output_type": "display_data",
          "data": {
            "image/png": "[encoded data removed]",
            "text/plain": [
              "<Figure size 432x288 with 1 Axes>"
            ]
          },
          "metadata": {
            "needs_background": "light"
          }
        }
      ]
    },
    {
      "cell_type": "markdown",
      "source": [
        "Explanation : This is to classify five types of flowers(daisy, dandelion, rose, sunflower, tulip)."
      ],
      "metadata": {
        "id": "69cFZS_M_rW4"
      }
    }
  ]
}